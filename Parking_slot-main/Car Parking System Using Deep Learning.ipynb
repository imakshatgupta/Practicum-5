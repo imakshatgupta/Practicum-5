{
 "cells": [
  {
   "cell_type": "code",
   "execution_count": 1,
   "id": "1b229f38",
   "metadata": {},
   "outputs": [],
   "source": [
    "import numpy as np\n",
    "import os\n",
    "from tensorflow.keras import applications\n",
    "from tensorflow.keras.preprocessing.image import ImageDataGenerator\n",
    "from tensorflow.keras import optimizers\n",
    "from tensorflow.keras.models import Sequential, Model\n",
    "from tensorflow.keras.layers import Dropout, Flatten, Dense, GlobalAveragePooling2D"
   ]
  },
  {
   "cell_type": "markdown",
   "id": "d3f602d9",
   "metadata": {},
   "source": [
    "Load train & test files"
   ]
  },
  {
   "cell_type": "code",
   "execution_count": 2,
   "id": "5a4a5fa9",
   "metadata": {},
   "outputs": [
    {
     "name": "stdout",
     "output_type": "stream",
     "text": [
      "432 164\n"
     ]
    }
   ],
   "source": [
    "files_train = 0\n",
    "files_validation = 0\n",
    "cwd = os.getcwd()\n",
    "folder = 'train_data/train'\n",
    "\n",
    "for sub_folder in os.listdir(folder):\n",
    "    path, dirs, files = next(os.walk(os.path.join(folder, sub_folder)))\n",
    "    files_train +=len(files)\n",
    "    \n",
    "folder = 'train_data/test'\n",
    "\n",
    "for sub_folder in os.listdir(folder):\n",
    "    path, dirs, files = next(os.walk(os.path.join(folder, sub_folder)))\n",
    "    files_validation +=len(files)\n",
    "\n",
    "print(files_train, files_validation)"
   ]
  },
  {
   "cell_type": "markdown",
   "id": "8ff52778",
   "metadata": {},
   "source": [
    "Set key parameters"
   ]
  },
  {
   "cell_type": "code",
   "execution_count": 3,
   "id": "1465f199",
   "metadata": {},
   "outputs": [],
   "source": [
    "img_width, img_height = 48,48\n",
    "train_data_dir = 'train_data/train'\n",
    "validation_data_dir = 'train_data/test'\n",
    "nb_train_sample = files_train\n",
    "nb_validation_sample = files_validation\n",
    "batch_size = 32\n",
    "epochs = 15\n",
    "num_classes = 2"
   ]
  },
  {
   "cell_type": "markdown",
   "id": "031c6a49",
   "metadata": {},
   "source": [
    "Build model on top of a pretrained VGG"
   ]
  },
  {
   "cell_type": "code",
   "execution_count": 4,
   "id": "bc481549",
   "metadata": {},
   "outputs": [],
   "source": [
    "model = applications.VGG16(weights = 'imagenet', include_top = False, input_shape = (img_width, img_height, 3))"
   ]
  },
  {
   "cell_type": "code",
   "execution_count": 5,
   "id": "3b2de7f7",
   "metadata": {},
   "outputs": [
    {
     "data": {
      "text/plain": [
       "[<keras.engine.input_layer.InputLayer at 0x17db3b8e910>,\n",
       " <keras.layers.convolutional.conv2d.Conv2D at 0x17de9998820>,\n",
       " <keras.layers.convolutional.conv2d.Conv2D at 0x17de9988f40>,\n",
       " <keras.layers.pooling.max_pooling2d.MaxPooling2D at 0x17de9957910>,\n",
       " <keras.layers.convolutional.conv2d.Conv2D at 0x17de99887f0>,\n",
       " <keras.layers.convolutional.conv2d.Conv2D at 0x17de9933430>,\n",
       " <keras.layers.pooling.max_pooling2d.MaxPooling2D at 0x17de9abd940>,\n",
       " <keras.layers.convolutional.conv2d.Conv2D at 0x17de99a76a0>,\n",
       " <keras.layers.convolutional.conv2d.Conv2D at 0x17de9ac45e0>,\n",
       " <keras.layers.convolutional.conv2d.Conv2D at 0x17de9ac4f10>,\n",
       " <keras.layers.pooling.max_pooling2d.MaxPooling2D at 0x17de9ad4f40>,\n",
       " <keras.layers.convolutional.conv2d.Conv2D at 0x17de9ad4ac0>,\n",
       " <keras.layers.convolutional.conv2d.Conv2D at 0x17de9ad4790>,\n",
       " <keras.layers.convolutional.conv2d.Conv2D at 0x17de9acb6a0>,\n",
       " <keras.layers.pooling.max_pooling2d.MaxPooling2D at 0x17de99885b0>,\n",
       " <keras.layers.convolutional.conv2d.Conv2D at 0x17de9957a90>,\n",
       " <keras.layers.convolutional.conv2d.Conv2D at 0x17de9adb2e0>,\n",
       " <keras.layers.convolutional.conv2d.Conv2D at 0x17de9ae3d60>,\n",
       " <keras.layers.pooling.max_pooling2d.MaxPooling2D at 0x17de9ae3d00>]"
      ]
     },
     "execution_count": 5,
     "metadata": {},
     "output_type": "execute_result"
    }
   ],
   "source": [
    "model.layers"
   ]
  },
  {
   "cell_type": "code",
   "execution_count": 6,
   "id": "2ee0aaed",
   "metadata": {},
   "outputs": [],
   "source": [
    "for layer in model.layers[:10]:\n",
    "    layer.traiable = False"
   ]
  },
  {
   "cell_type": "code",
   "execution_count": 7,
   "id": "50f1108b",
   "metadata": {},
   "outputs": [
    {
     "name": "stderr",
     "output_type": "stream",
     "text": [
      "c:\\Users\\HP\\anaconda3\\envs\\parking\\lib\\site-packages\\keras\\optimizers\\optimizer_v2\\gradient_descent.py:108: UserWarning: The `lr` argument is deprecated, use `learning_rate` instead.\n",
      "  super(SGD, self).__init__(name, **kwargs)\n"
     ]
    }
   ],
   "source": [
    "x = model.output\n",
    "x = Flatten()(x)\n",
    "\n",
    "predictions = Dense(num_classes, activation = 'softmax')(x)\n",
    "model_final = Model(inputs = model.input, outputs = predictions)\n",
    "\n",
    "model_final.compile(loss = 'categorical_crossentropy', \n",
    "                    optimizer = optimizers.SGD(lr = 0.0001, momentum=0.9), \n",
    "                    metrics=['accuracy'])"
   ]
  },
  {
   "cell_type": "markdown",
   "id": "cf4c7d3f",
   "metadata": {},
   "source": [
    "Data Augumentation"
   ]
  },
  {
   "cell_type": "code",
   "execution_count": 8,
   "id": "a0b73e0c",
   "metadata": {},
   "outputs": [
    {
     "name": "stdout",
     "output_type": "stream",
     "text": [
      "Found 432 images belonging to 2 classes.\n",
      "Found 164 images belonging to 2 classes.\n"
     ]
    }
   ],
   "source": [
    "train_datagen = ImageDataGenerator(rescale=1.0/255, horizontal_flip=True, \n",
    "                   fill_mode='nearest',zoom_range=0.1, width_shift_range=0.1, \n",
    "                  height_shift_range=0.1, rotation_range=5)\n",
    "\n",
    "test_datagen = ImageDataGenerator(rescale=1.0/255, horizontal_flip=True, \n",
    "                   fill_mode='nearest',zoom_range=0.1, width_shift_range=0.1, \n",
    "                  height_shift_range=0.1, rotation_range=5)\n",
    "\n",
    "train_generator = train_datagen.flow_from_directory(train_data_dir, target_size=(img_height, img_width), \n",
    "                                 batch_size = batch_size, class_mode = 'categorical')\n",
    "\n",
    "validation_generator = test_datagen.flow_from_directory(validation_data_dir, target_size=(img_height, img_width), \n",
    "                                 batch_size = batch_size, class_mode = 'categorical')"
   ]
  },
  {
   "cell_type": "code",
   "execution_count": 9,
   "id": "61bc3202",
   "metadata": {},
   "outputs": [
    {
     "name": "stdout",
     "output_type": "stream",
     "text": [
      "Requirement already satisfied: pillow in c:\\users\\hp\\anaconda3\\envs\\parking\\lib\\site-packages (11.0.0)\n",
      "Note: you may need to restart the kernel to use updated packages.\n"
     ]
    }
   ],
   "source": [
    "pip install pillow"
   ]
  },
  {
   "cell_type": "code",
   "execution_count": 10,
   "id": "7d5d50b9",
   "metadata": {},
   "outputs": [
    {
     "name": "stdout",
     "output_type": "stream",
     "text": [
      "Requirement already satisfied: scipy in c:\\users\\hp\\anaconda3\\envs\\parking\\lib\\site-packages (1.13.1)\n",
      "Requirement already satisfied: numpy<2.3,>=1.22.4 in c:\\users\\hp\\anaconda3\\envs\\parking\\lib\\site-packages (from scipy) (1.24.4)\n",
      "Note: you may need to restart the kernel to use updated packages.\n"
     ]
    }
   ],
   "source": [
    "pip install scipy"
   ]
  },
  {
   "cell_type": "code",
   "execution_count": 11,
   "id": "2934ed5f",
   "metadata": {},
   "outputs": [],
   "source": [
    "import scipy"
   ]
  },
  {
   "cell_type": "code",
   "execution_count": 12,
   "id": "64c8e698",
   "metadata": {},
   "outputs": [
    {
     "name": "stdout",
     "output_type": "stream",
     "text": [
      "Epoch 1/15\n",
      "13/13 [==============================] - 17s 1s/step - loss: 0.6104 - accuracy: 0.6200 - val_loss: 0.4355 - val_accuracy: 0.7688\n",
      "Epoch 2/15\n",
      "13/13 [==============================] - 14s 1s/step - loss: 0.3185 - accuracy: 0.8475 - val_loss: 0.2738 - val_accuracy: 0.9062\n",
      "Epoch 3/15\n",
      "13/13 [==============================] - 14s 1s/step - loss: 0.2159 - accuracy: 0.9600 - val_loss: 0.2818 - val_accuracy: 0.8813\n",
      "Epoch 4/15\n",
      "13/13 [==============================] - 14s 1s/step - loss: 0.1883 - accuracy: 0.9275 - val_loss: 0.2416 - val_accuracy: 0.9062\n",
      "Epoch 5/15\n",
      "13/13 [==============================] - 14s 1s/step - loss: 0.1463 - accuracy: 0.9675 - val_loss: 0.2217 - val_accuracy: 0.9187\n",
      "Epoch 6/15\n",
      "13/13 [==============================] - 14s 1s/step - loss: 0.1244 - accuracy: 0.9750 - val_loss: 0.2284 - val_accuracy: 0.9125\n",
      "Epoch 7/15\n",
      "13/13 [==============================] - 14s 1s/step - loss: 0.1068 - accuracy: 0.9688 - val_loss: 0.2060 - val_accuracy: 0.9250\n",
      "Epoch 8/15\n",
      "13/13 [==============================] - 14s 1s/step - loss: 0.0959 - accuracy: 0.9775 - val_loss: 0.1534 - val_accuracy: 0.9312\n",
      "Epoch 9/15\n",
      "13/13 [==============================] - 14s 1s/step - loss: 0.0636 - accuracy: 0.9875 - val_loss: 0.1714 - val_accuracy: 0.9187\n",
      "Epoch 10/15\n",
      "13/13 [==============================] - 14s 1s/step - loss: 0.0618 - accuracy: 0.9800 - val_loss: 0.1740 - val_accuracy: 0.9438\n",
      "Epoch 11/15\n",
      "13/13 [==============================] - 14s 1s/step - loss: 0.0665 - accuracy: 0.9750 - val_loss: 0.1677 - val_accuracy: 0.9187\n",
      "Epoch 12/15\n",
      "13/13 [==============================] - 14s 1s/step - loss: 0.0544 - accuracy: 0.9875 - val_loss: 0.1703 - val_accuracy: 0.9438\n",
      "Epoch 13/15\n",
      "13/13 [==============================] - 14s 1s/step - loss: 0.0495 - accuracy: 0.9825 - val_loss: 0.1958 - val_accuracy: 0.9187\n",
      "Epoch 14/15\n",
      "13/13 [==============================] - 13s 1s/step - loss: 0.0404 - accuracy: 0.9900 - val_loss: 0.1579 - val_accuracy: 0.9312\n",
      "Epoch 15/15\n",
      "13/13 [==============================] - 14s 1s/step - loss: 0.0489 - accuracy: 0.9900 - val_loss: 0.1660 - val_accuracy: 0.9312\n"
     ]
    }
   ],
   "source": [
    "history = model_final.fit(\n",
    "train_generator, steps_per_epoch=nb_train_sample//batch_size, \n",
    "    validation_steps=nb_validation_sample//batch_size, \n",
    "epochs = epochs, validation_data=validation_generator)"
   ]
  },
  {
   "cell_type": "code",
   "execution_count": 13,
   "id": "f7b92320",
   "metadata": {},
   "outputs": [
    {
     "data": {
      "text/plain": [
       "{'loss': [0.6103821396827698,\n",
       "  0.31849679350852966,\n",
       "  0.21594642102718353,\n",
       "  0.18826942145824432,\n",
       "  0.1462637335062027,\n",
       "  0.12442291527986526,\n",
       "  0.10676494985818863,\n",
       "  0.09593350440263748,\n",
       "  0.06362852454185486,\n",
       "  0.06182970851659775,\n",
       "  0.06650593131780624,\n",
       "  0.05435216799378395,\n",
       "  0.04951002448797226,\n",
       "  0.04035085067152977,\n",
       "  0.04892171919345856],\n",
       " 'accuracy': [0.6200000047683716,\n",
       "  0.8475000262260437,\n",
       "  0.9599999785423279,\n",
       "  0.9275000095367432,\n",
       "  0.9674999713897705,\n",
       "  0.9750000238418579,\n",
       "  0.96875,\n",
       "  0.9775000214576721,\n",
       "  0.987500011920929,\n",
       "  0.9800000190734863,\n",
       "  0.9750000238418579,\n",
       "  0.987500011920929,\n",
       "  0.9825000166893005,\n",
       "  0.9900000095367432,\n",
       "  0.9900000095367432],\n",
       " 'val_loss': [0.4355294704437256,\n",
       "  0.2737721800804138,\n",
       "  0.28177064657211304,\n",
       "  0.24155767261981964,\n",
       "  0.22169065475463867,\n",
       "  0.2283550202846527,\n",
       "  0.20601622760295868,\n",
       "  0.15343347191810608,\n",
       "  0.17141373455524445,\n",
       "  0.17397335171699524,\n",
       "  0.16767475008964539,\n",
       "  0.170336052775383,\n",
       "  0.19580230116844177,\n",
       "  0.15791282057762146,\n",
       "  0.16598659753799438],\n",
       " 'val_accuracy': [0.768750011920929,\n",
       "  0.90625,\n",
       "  0.8812500238418579,\n",
       "  0.90625,\n",
       "  0.918749988079071,\n",
       "  0.9125000238418579,\n",
       "  0.925000011920929,\n",
       "  0.9312499761581421,\n",
       "  0.918749988079071,\n",
       "  0.9437500238418579,\n",
       "  0.918749988079071,\n",
       "  0.9437500238418579,\n",
       "  0.918749988079071,\n",
       "  0.9312499761581421,\n",
       "  0.9312499761581421]}"
      ]
     },
     "execution_count": 13,
     "metadata": {},
     "output_type": "execute_result"
    }
   ],
   "source": [
    "history.history"
   ]
  },
  {
   "cell_type": "code",
   "execution_count": 16,
   "id": "42a9c79c",
   "metadata": {},
   "outputs": [
    {
     "name": "stdout",
     "output_type": "stream",
     "text": [
      "Collecting matplotlib\n",
      "  Using cached matplotlib-3.9.2-cp39-cp39-win_amd64.whl.metadata (11 kB)\n",
      "Collecting contourpy>=1.0.1 (from matplotlib)\n",
      "  Using cached contourpy-1.3.0-cp39-cp39-win_amd64.whl.metadata (5.4 kB)\n",
      "Collecting cycler>=0.10 (from matplotlib)\n",
      "  Using cached cycler-0.12.1-py3-none-any.whl.metadata (3.8 kB)\n",
      "Collecting fonttools>=4.22.0 (from matplotlib)\n",
      "  Using cached fonttools-4.54.1-cp39-cp39-win_amd64.whl.metadata (167 kB)\n",
      "Collecting kiwisolver>=1.3.1 (from matplotlib)\n",
      "  Using cached kiwisolver-1.4.7-cp39-cp39-win_amd64.whl.metadata (6.4 kB)\n",
      "Requirement already satisfied: numpy>=1.23 in c:\\users\\hp\\anaconda3\\envs\\parking\\lib\\site-packages (from matplotlib) (1.24.4)\n",
      "Requirement already satisfied: packaging>=20.0 in c:\\users\\hp\\anaconda3\\envs\\parking\\lib\\site-packages (from matplotlib) (24.1)\n",
      "Requirement already satisfied: pillow>=8 in c:\\users\\hp\\anaconda3\\envs\\parking\\lib\\site-packages (from matplotlib) (11.0.0)\n",
      "Collecting pyparsing>=2.3.1 (from matplotlib)\n",
      "  Using cached pyparsing-3.2.0-py3-none-any.whl.metadata (5.0 kB)\n",
      "Requirement already satisfied: python-dateutil>=2.7 in c:\\users\\hp\\anaconda3\\envs\\parking\\lib\\site-packages (from matplotlib) (2.9.0)\n",
      "Collecting importlib-resources>=3.2.0 (from matplotlib)\n",
      "  Using cached importlib_resources-6.4.5-py3-none-any.whl.metadata (4.0 kB)\n",
      "Requirement already satisfied: zipp>=3.1.0 in c:\\users\\hp\\anaconda3\\envs\\parking\\lib\\site-packages (from importlib-resources>=3.2.0->matplotlib) (3.20.2)\n",
      "Requirement already satisfied: six>=1.5 in c:\\users\\hp\\anaconda3\\envs\\parking\\lib\\site-packages (from python-dateutil>=2.7->matplotlib) (1.16.0)\n",
      "Using cached matplotlib-3.9.2-cp39-cp39-win_amd64.whl (7.8 MB)\n",
      "Using cached contourpy-1.3.0-cp39-cp39-win_amd64.whl (211 kB)\n",
      "Using cached cycler-0.12.1-py3-none-any.whl (8.3 kB)\n",
      "Using cached fonttools-4.54.1-cp39-cp39-win_amd64.whl (2.2 MB)\n",
      "Using cached importlib_resources-6.4.5-py3-none-any.whl (36 kB)\n",
      "Using cached kiwisolver-1.4.7-cp39-cp39-win_amd64.whl (55 kB)\n",
      "Using cached pyparsing-3.2.0-py3-none-any.whl (106 kB)\n",
      "Installing collected packages: pyparsing, kiwisolver, importlib-resources, fonttools, cycler, contourpy, matplotlib\n",
      "Successfully installed contourpy-1.3.0 cycler-0.12.1 fonttools-4.54.1 importlib-resources-6.4.5 kiwisolver-1.4.7 matplotlib-3.9.2 pyparsing-3.2.0\n"
     ]
    }
   ],
   "source": [
    "!pip install matplotlib"
   ]
  },
  {
   "cell_type": "code",
   "execution_count": 17,
   "id": "ca9afd29",
   "metadata": {},
   "outputs": [
    {
     "data": {
      "image/png": "[encoded data removed]",
      "text/plain": [
       "<Figure size 640x480 with 1 Axes>"
      ]
     },
     "metadata": {},
     "output_type": "display_data"
    }
   ],
   "source": [
    "import matplotlib.pyplot as plt\n",
    "plt.plot(history.history['accuracy'])\n",
    "plt.plot(history.history['val_accuracy'])\n",
    "plt.title('model_accuracy')\n",
    "plt.ylabel('accuracy')\n",
    "plt.xlabel('epochs')\n",
    "plt.legend(['train', 'test'], loc = 'upper left')\n",
    "plt.show()"
   ]
  },
  {
   "cell_type": "code",
   "execution_count": 18,
   "id": "e9fa2640",
   "metadata": {},
   "outputs": [
    {
     "data": {
      "image/png": "[encoded data removed]",
      "text/plain": [
       "<Figure size 640x480 with 1 Axes>"
      ]
     },
     "metadata": {},
     "output_type": "display_data"
    }
   ],
   "source": [
    "import matplotlib.pyplot as plt\n",
    "plt.plot(history.history['loss'])\n",
    "plt.plot(history.history['val_loss'])\n",
    "plt.title('model_loss')\n",
    "plt.ylabel('loss')\n",
    "plt.xlabel('epochs')\n",
    "plt.legend(['train', 'test'], loc = 'upper left')\n",
    "plt.show()"
   ]
  },
  {
   "cell_type": "code",
   "execution_count": 19,
   "id": "45debf0f",
   "metadata": {},
   "outputs": [],
   "source": [
    "model_final.save('model_final.h5')"
   ]
  },
  {
   "cell_type": "code",
   "execution_count": 20,
   "id": "16e16bbe",
   "metadata": {},
   "outputs": [],
   "source": [
    "class_dictionary = {}\n",
    "class_dictionary[0]  = 'no_car'\n",
    "class_dictionary[1]  = 'car'"
   ]
  },
  {
   "cell_type": "code",
   "execution_count": 21,
   "id": "ade30be2",
   "metadata": {},
   "outputs": [
    {
     "data": {
      "text/plain": [
       "{0: 'no_car', 1: 'car'}"
      ]
     },
     "execution_count": 21,
     "metadata": {},
     "output_type": "execute_result"
    }
   ],
   "source": [
    "class_dictionary"
   ]
  },
  {
   "cell_type": "markdown",
   "id": "f90bf2a1",
   "metadata": {},
   "source": [
    "Predictive System"
   ]
  },
  {
   "cell_type": "code",
   "execution_count": 22,
   "id": "af810ffd",
   "metadata": {},
   "outputs": [],
   "source": [
    "import cv2\n",
    "import numpy as np\n",
    "\n",
    "def make_prediction(image):\n",
    "    image = cv2.imread(image)\n",
    "    image = cv2.resize(image, (48, 48))\n",
    "    img = image/255\n",
    "#     (1, 48, 48, 3) -> 4D Tensor\n",
    "    img = np.expand_dims(img, axis = 0)\n",
    "    \n",
    "    class_predicted = model_final.predict(img)\n",
    "    intId = np.argmax(class_predicted[0])\n",
    "    label = class_dictionary[intId]\n",
    "    return label"
   ]
  },
  {
   "cell_type": "code",
   "execution_count": 23,
   "id": "34627189",
   "metadata": {},
   "outputs": [],
   "source": [
    "model_final.save(\"model_final.h5\")"
   ]
  },
  {
   "cell_type": "code",
   "execution_count": null,
   "id": "b35bc92a",
   "metadata": {},
   "outputs": [],
   "source": []
  }
 ],
 "metadata": {
  "kernelspec": {
   "display_name": "parking",
   "language": "python",
   "name": "python3"
  },
  "language_info": {
   "codemirror_mode": {
    "name": "ipython",
    "version": 3
   },
   "file_extension": ".py",
   "mimetype": "text/x-python",
   "name": "python",
   "nbconvert_exporter": "python",
   "pygments_lexer": "ipython3",
   "version": "3.9.20"
  }
 },
 "nbformat": 4,
 "nbformat_minor": 5
}
